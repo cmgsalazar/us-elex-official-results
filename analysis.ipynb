{
 "cells": [
  {
   "cell_type": "markdown",
   "id": "c194c4f0-7832-416f-8c37-541a21b73b72",
   "metadata": {},
   "source": [
    "# 2016 and 2020 presidential elections in the Bronx\n",
    "\n",
    "Here, we will be looking at 2016 and 2020 election night results to see how Bronxites voted in the previous elections. The objectives are to visualize the data and identify trends, if any.\n",
    "\n",
    "Note: The 2020 dataset was problematic — the first 10 columns were just column names and the next 10 columns did not have headers. I corrected the dataset manually."
   ]
  },
  {
   "cell_type": "code",
   "execution_count": 1,
   "id": "8c806134-5577-432d-8c2f-ac2bf94e9960",
   "metadata": {},
   "outputs": [],
   "source": [
    "# importing libraries\n",
    "import pandas as pd\n",
    "import os"
   ]
  },
  {
   "cell_type": "code",
   "execution_count": 2,
   "id": "225d6377-609b-4a78-9ef6-4bc10e5920b9",
   "metadata": {},
   "outputs": [],
   "source": [
    "# reading files\n",
    "\n",
    "df_2016 = pd.read_csv(\"data/2016-Citywide President Vice President Citywide EDLevel.csv\")\n",
    "df_2020 = pd.read_csv(\"data/2020-Citywide President Vice President Citywide EDLevel.csv\")"
   ]
  },
  {
   "cell_type": "markdown",
   "id": "2c4103c9-c0ac-4b37-9a58-636001fbe388",
   "metadata": {},
   "source": [
    "## Filtering data by county\n",
    "\n",
    "We want to keep only data for the Bronx, or assembly districts 77 to 87."
   ]
  },
  {
   "cell_type": "code",
   "execution_count": 3,
   "id": "9ce94419-7e8a-4700-ac6f-3d2c0395bed0",
   "metadata": {},
   "outputs": [],
   "source": [
    "def filter_county(df, col_name, county):\n",
    "    \"\"\"\n",
    "    This function filters a DataFrame to keep only a specific county.\n",
    "\n",
    "    Parameters:\n",
    "    df (pd.DataFrame) = name of DataFrame\n",
    "    col_name (str) = name of column\n",
    "    county (str) = name of county to filter\n",
    "    \"\"\"\n",
    "\n",
    "    filtered_df = df[df[col_name] == county]\n",
    "    return filtered_df"
   ]
  },
  {
   "cell_type": "code",
   "execution_count": 4,
   "id": "10b49d9d-f4db-4192-a242-e8853a3b652a",
   "metadata": {},
   "outputs": [],
   "source": [
    "# filtering only bronx data\n",
    "bx_2016 = filter_county(df_2016, \"County\", \"Bronx\")\n",
    "bx_2020 = filter_county(df_2020, \"County\", \"Bronx\")"
   ]
  },
  {
   "cell_type": "markdown",
   "id": "be2fe07d-5fa8-41c3-a978-eb2354786e6a",
   "metadata": {},
   "source": [
    "## Pulling Assembly District and Election District codes\n",
    "\n",
    "We will create a new column that shows both the assembly district and election district numbers, which is the same code we will use for visualization. This follows the format of our map and geocodes for viz, i.e., AE0ED."
   ]
  },
  {
   "cell_type": "code",
   "execution_count": 5,
   "id": "b6e85774-efae-45d9-a9a7-f81ec0d14cd8",
   "metadata": {},
   "outputs": [],
   "source": [
    "def add_ed(df, new_col, ad_col, ed_col):\n",
    "    \"\"\"\n",
    "    This function gets only the numbers of the Assembly Districts and Election Districts and combines them.\n",
    "    The resulting new column will show a five-digit code for mapping. \n",
    "\n",
    "    This function presupposes that items in the Assembly Districts and Election Districts are integers.\n",
    "\n",
    "    Parameters:\n",
    "    df (pd.DataFrame) = name of DataFrame\n",
    "    new_col (str) = name of new column that will hold the five-digit code that combines the Assembly District and Election District numbers\n",
    "    ad_col (str) = column name of the Assembly District number\n",
    "    ed_col (str) = column name of the Election District number\n",
    "    \"\"\"\n",
    "\n",
    "    df.loc[:, new_col] = df[ad_col].astype(str) + df[ed_col].astype(str).str.zfill(3)\n",
    "    return df"
   ]
  },
  {
   "cell_type": "code",
   "execution_count": 6,
   "id": "24973ea9-56c7-4e22-a1f4-a63e28b08fc6",
   "metadata": {},
   "outputs": [
    {
     "name": "stderr",
     "output_type": "stream",
     "text": [
      "/var/folders/4f/fk_hbgy14cg47tw521m3y0xw0000gn/T/ipykernel_14690/3299567341.py:15: SettingWithCopyWarning: \n",
      "A value is trying to be set on a copy of a slice from a DataFrame.\n",
      "Try using .loc[row_indexer,col_indexer] = value instead\n",
      "\n",
      "See the caveats in the documentation: https://pandas.pydata.org/pandas-docs/stable/user_guide/indexing.html#returning-a-view-versus-a-copy\n",
      "  df.loc[:, new_col] = df[ad_col].astype(str) + df[ed_col].astype(str).str.zfill(3)\n",
      "/var/folders/4f/fk_hbgy14cg47tw521m3y0xw0000gn/T/ipykernel_14690/3299567341.py:15: SettingWithCopyWarning: \n",
      "A value is trying to be set on a copy of a slice from a DataFrame.\n",
      "Try using .loc[row_indexer,col_indexer] = value instead\n",
      "\n",
      "See the caveats in the documentation: https://pandas.pydata.org/pandas-docs/stable/user_guide/indexing.html#returning-a-view-versus-a-copy\n",
      "  df.loc[:, new_col] = df[ad_col].astype(str) + df[ed_col].astype(str).str.zfill(3)\n"
     ]
    }
   ],
   "source": [
    "# create a new column that combines AD and ED digits\n",
    "bx_2016 = add_ed(bx_2016, \"ed_map_for_viz\", \"AD\", \"ED\")\n",
    "bx_2020 = add_ed(bx_2020, \"ed_map_for_viz\", \"AD\", \"ED\")"
   ]
  },
  {
   "cell_type": "markdown",
   "id": "66b76785-7157-4561-95a1-7ae1447e9ec7",
   "metadata": {},
   "source": [
    "## Filter candidate\n",
    "\n",
    "Here, we will create a new DataFrame that filters only the candidates we want."
   ]
  },
  {
   "cell_type": "code",
   "execution_count": 7,
   "id": "3da51aff-3e59-41e3-961a-e9a69d176ab8",
   "metadata": {},
   "outputs": [],
   "source": [
    "def filter_candidates(df, col_name, candidate_name, status_col=\"EDAD Status\"):\n",
    "    \"\"\"\n",
    "    This function filters a DataFrame in two ways: a) keep only certain candidates,\n",
    "    b) include rows of districts that were \"combined\" with other districts.\n",
    "\n",
    "    Parameters:\n",
    "    df (pd.DataFrame) = name of DataFrame\n",
    "    col_name (str) = name of column\n",
    "    candidate_name (str) = name of candidate/s to filter; use the pipe symbol (\"|\") for multiple names\n",
    "    status_col (str): name of status column, defaults to \"EDAD Status\"\n",
    "    \"\"\"\n",
    "\n",
    "    # filter candidates\n",
    "    filtered_candidates = df[df[col_name].str.contains(candidate_name, case=False, na=False)]\n",
    "\n",
    "    # filter combined rows\n",
    "    filtered_combined = df[df[status_col].str.contains(\"combined\", case=False, na=False)]\n",
    "\n",
    "    # concat both dfs and remove duplicates, then sort to order\n",
    "    filtered_df = pd.concat([filtered_candidates, filtered_combined]).drop_duplicates()\n",
    "    filtered_df = filtered_df.sort_index()\n",
    "    \n",
    "    return filtered_df\n",
    "    "
   ]
  },
  {
   "cell_type": "code",
   "execution_count": 8,
   "id": "8593e240-8ce1-4f0b-a9e2-b48b591f3014",
   "metadata": {},
   "outputs": [],
   "source": [
    "# keeping only democrat and republican votes data\n",
    "\n",
    "# 2016: Trump vs Clinton\n",
    "bx_2016_prez = filter_candidates(bx_2016, \"Unit Name\", \"Trump|Clinton\")\n",
    "\n",
    "# 2020: Trump vs Biden\n",
    "bx_2020_prez = filter_candidates(bx_2020, \"Unit Name\", \"Trump|Biden\")"
   ]
  },
  {
   "cell_type": "markdown",
   "id": "f82e4519-94ce-4784-880c-5a25d1df25ac",
   "metadata": {},
   "source": [
    "## Getting total votes per candidate\n",
    "\n",
    "Update: An earlier version of the code calculated only vote counts, but because we will be comparing results with other years, we will use percentages for consistency."
   ]
  },
  {
   "cell_type": "code",
   "execution_count": 9,
   "id": "b2daaac1-793d-42a4-ac8c-26ecd7776c16",
   "metadata": {},
   "outputs": [],
   "source": [
    "def process_votes(df, col_name, candidate_names, tally_col, ed_col, new_col, status_col=\"EDAD Status\"):\n",
    "    \"\"\"\n",
    "    This function counts the votes per candidate per election district.\n",
    "    It will include combined districts.\n",
    "\n",
    "    Parameters:\n",
    "    df (pd.DataFrame) = name of DataFrame\n",
    "    col_name (str) = column name to search for candidate names\n",
    "    candidate_names (list) = list of candidates to filter; this assumes a two-party race\n",
    "    tally_col (str) = column name for vote counts\n",
    "    ed_col (str) = column name for election districts\n",
    "    new_col (str) = name of new column that holds vote differential value\n",
    "    status_col (str): name of status column, defaults to \"EDAD Status\"\n",
    "    \"\"\"\n",
    "\n",
    "    # filters the candidates and sums votes\n",
    "    results = {} # holds our data\n",
    "\n",
    "    # makes sure we're working with int values\n",
    "    df[tally_col] = df[tally_col].astype(int)\n",
    "    \n",
    "    for candidate in candidate_names:\n",
    "        candidate_df = df[\n",
    "            (df[col_name].str.contains(candidate, case=False, na=False)) |\n",
    "            (df[status_col].str.contains(\"combined\", case=False, na=False))\n",
    "        ]\n",
    "\n",
    "        results[candidate] = candidate_df.groupby(ed_col)[tally_col].sum()\n",
    "\n",
    "    # saves to df\n",
    "    result_df = pd.DataFrame(results).reset_index().fillna(0)\n",
    "    result_df[candidate_names] = result_df[candidate_names].apply(pd.to_numeric, errors=\"coerce\")\n",
    "\n",
    "    # computes vote differences\n",
    "    result_df[new_col] = result_df[candidate_names[0]] - result_df[candidate_names[1]]\n",
    "\n",
    "    return result_df"
   ]
  },
  {
   "cell_type": "code",
   "execution_count": 10,
   "id": "b80c059c-c470-4317-a3cf-9ad7fac11ee7",
   "metadata": {},
   "outputs": [
    {
     "data": {
      "text/html": [
       "<div>\n",
       "<style scoped>\n",
       "    .dataframe tbody tr th:only-of-type {\n",
       "        vertical-align: middle;\n",
       "    }\n",
       "\n",
       "    .dataframe tbody tr th {\n",
       "        vertical-align: top;\n",
       "    }\n",
       "\n",
       "    .dataframe thead th {\n",
       "        text-align: right;\n",
       "    }\n",
       "</style>\n",
       "<table border=\"1\" class=\"dataframe\">\n",
       "  <thead>\n",
       "    <tr style=\"text-align: right;\">\n",
       "      <th></th>\n",
       "      <th>ed_map_for_viz</th>\n",
       "      <th>Trump</th>\n",
       "      <th>Clinton</th>\n",
       "      <th>vote_differences</th>\n",
       "    </tr>\n",
       "  </thead>\n",
       "  <tbody>\n",
       "    <tr>\n",
       "      <th>0</th>\n",
       "      <td>77001</td>\n",
       "      <td>10</td>\n",
       "      <td>200</td>\n",
       "      <td>-190</td>\n",
       "    </tr>\n",
       "    <tr>\n",
       "      <th>1</th>\n",
       "      <td>77002</td>\n",
       "      <td>11</td>\n",
       "      <td>219</td>\n",
       "      <td>-208</td>\n",
       "    </tr>\n",
       "    <tr>\n",
       "      <th>2</th>\n",
       "      <td>77003</td>\n",
       "      <td>10</td>\n",
       "      <td>378</td>\n",
       "      <td>-368</td>\n",
       "    </tr>\n",
       "    <tr>\n",
       "      <th>3</th>\n",
       "      <td>77004</td>\n",
       "      <td>19</td>\n",
       "      <td>464</td>\n",
       "      <td>-445</td>\n",
       "    </tr>\n",
       "    <tr>\n",
       "      <th>4</th>\n",
       "      <td>77005</td>\n",
       "      <td>20</td>\n",
       "      <td>702</td>\n",
       "      <td>-682</td>\n",
       "    </tr>\n",
       "    <tr>\n",
       "      <th>...</th>\n",
       "      <td>...</td>\n",
       "      <td>...</td>\n",
       "      <td>...</td>\n",
       "      <td>...</td>\n",
       "    </tr>\n",
       "    <tr>\n",
       "      <th>954</th>\n",
       "      <td>87091</td>\n",
       "      <td>0</td>\n",
       "      <td>0</td>\n",
       "      <td>0</td>\n",
       "    </tr>\n",
       "    <tr>\n",
       "      <th>955</th>\n",
       "      <td>87092</td>\n",
       "      <td>0</td>\n",
       "      <td>0</td>\n",
       "      <td>0</td>\n",
       "    </tr>\n",
       "    <tr>\n",
       "      <th>956</th>\n",
       "      <td>87093</td>\n",
       "      <td>0</td>\n",
       "      <td>0</td>\n",
       "      <td>0</td>\n",
       "    </tr>\n",
       "    <tr>\n",
       "      <th>957</th>\n",
       "      <td>87094</td>\n",
       "      <td>0</td>\n",
       "      <td>0</td>\n",
       "      <td>0</td>\n",
       "    </tr>\n",
       "    <tr>\n",
       "      <th>958</th>\n",
       "      <td>87095</td>\n",
       "      <td>0</td>\n",
       "      <td>0</td>\n",
       "      <td>0</td>\n",
       "    </tr>\n",
       "  </tbody>\n",
       "</table>\n",
       "<p>959 rows × 4 columns</p>\n",
       "</div>"
      ],
      "text/plain": [
       "    ed_map_for_viz  Trump  Clinton  vote_differences\n",
       "0            77001     10      200              -190\n",
       "1            77002     11      219              -208\n",
       "2            77003     10      378              -368\n",
       "3            77004     19      464              -445\n",
       "4            77005     20      702              -682\n",
       "..             ...    ...      ...               ...\n",
       "954          87091      0        0                 0\n",
       "955          87092      0        0                 0\n",
       "956          87093      0        0                 0\n",
       "957          87094      0        0                 0\n",
       "958          87095      0        0                 0\n",
       "\n",
       "[959 rows x 4 columns]"
      ]
     },
     "execution_count": 10,
     "metadata": {},
     "output_type": "execute_result"
    }
   ],
   "source": [
    "totals_2016 = process_votes(bx_2016_prez, \"Unit Name\", [\"Trump\", \"Clinton\"],\\\n",
    "                      \"Tally\", \"ed_map_for_viz\",\\\n",
    "                      \"vote_differences\")\n",
    "totals_2016"
   ]
  },
  {
   "cell_type": "code",
   "execution_count": 11,
   "id": "07cdb70c-3295-47e8-a66a-834d23b775bf",
   "metadata": {},
   "outputs": [
    {
     "data": {
      "text/html": [
       "<div>\n",
       "<style scoped>\n",
       "    .dataframe tbody tr th:only-of-type {\n",
       "        vertical-align: middle;\n",
       "    }\n",
       "\n",
       "    .dataframe tbody tr th {\n",
       "        vertical-align: top;\n",
       "    }\n",
       "\n",
       "    .dataframe thead th {\n",
       "        text-align: right;\n",
       "    }\n",
       "</style>\n",
       "<table border=\"1\" class=\"dataframe\">\n",
       "  <thead>\n",
       "    <tr style=\"text-align: right;\">\n",
       "      <th></th>\n",
       "      <th>ed_map_for_viz</th>\n",
       "      <th>Trump</th>\n",
       "      <th>Biden</th>\n",
       "      <th>vote_differences</th>\n",
       "    </tr>\n",
       "  </thead>\n",
       "  <tbody>\n",
       "    <tr>\n",
       "      <th>0</th>\n",
       "      <td>77001</td>\n",
       "      <td>27</td>\n",
       "      <td>199</td>\n",
       "      <td>-172</td>\n",
       "    </tr>\n",
       "    <tr>\n",
       "      <th>1</th>\n",
       "      <td>77002</td>\n",
       "      <td>20</td>\n",
       "      <td>202</td>\n",
       "      <td>-182</td>\n",
       "    </tr>\n",
       "    <tr>\n",
       "      <th>2</th>\n",
       "      <td>77003</td>\n",
       "      <td>84</td>\n",
       "      <td>515</td>\n",
       "      <td>-431</td>\n",
       "    </tr>\n",
       "    <tr>\n",
       "      <th>3</th>\n",
       "      <td>77004</td>\n",
       "      <td>87</td>\n",
       "      <td>408</td>\n",
       "      <td>-321</td>\n",
       "    </tr>\n",
       "    <tr>\n",
       "      <th>4</th>\n",
       "      <td>77005</td>\n",
       "      <td>70</td>\n",
       "      <td>439</td>\n",
       "      <td>-369</td>\n",
       "    </tr>\n",
       "    <tr>\n",
       "      <th>...</th>\n",
       "      <td>...</td>\n",
       "      <td>...</td>\n",
       "      <td>...</td>\n",
       "      <td>...</td>\n",
       "    </tr>\n",
       "    <tr>\n",
       "      <th>994</th>\n",
       "      <td>87098</td>\n",
       "      <td>68</td>\n",
       "      <td>500</td>\n",
       "      <td>-432</td>\n",
       "    </tr>\n",
       "    <tr>\n",
       "      <th>995</th>\n",
       "      <td>87099</td>\n",
       "      <td>62</td>\n",
       "      <td>458</td>\n",
       "      <td>-396</td>\n",
       "    </tr>\n",
       "    <tr>\n",
       "      <th>996</th>\n",
       "      <td>87100</td>\n",
       "      <td>30</td>\n",
       "      <td>331</td>\n",
       "      <td>-301</td>\n",
       "    </tr>\n",
       "    <tr>\n",
       "      <th>997</th>\n",
       "      <td>87101</td>\n",
       "      <td>67</td>\n",
       "      <td>415</td>\n",
       "      <td>-348</td>\n",
       "    </tr>\n",
       "    <tr>\n",
       "      <th>998</th>\n",
       "      <td>87102</td>\n",
       "      <td>30</td>\n",
       "      <td>339</td>\n",
       "      <td>-309</td>\n",
       "    </tr>\n",
       "  </tbody>\n",
       "</table>\n",
       "<p>999 rows × 4 columns</p>\n",
       "</div>"
      ],
      "text/plain": [
       "    ed_map_for_viz  Trump  Biden  vote_differences\n",
       "0            77001     27    199              -172\n",
       "1            77002     20    202              -182\n",
       "2            77003     84    515              -431\n",
       "3            77004     87    408              -321\n",
       "4            77005     70    439              -369\n",
       "..             ...    ...    ...               ...\n",
       "994          87098     68    500              -432\n",
       "995          87099     62    458              -396\n",
       "996          87100     30    331              -301\n",
       "997          87101     67    415              -348\n",
       "998          87102     30    339              -309\n",
       "\n",
       "[999 rows x 4 columns]"
      ]
     },
     "execution_count": 11,
     "metadata": {},
     "output_type": "execute_result"
    }
   ],
   "source": [
    "totals_2020 = process_votes(bx_2020_prez, \"Unit Name\", [\"Trump\", \"Biden\"],\\\n",
    "                      \"Tally\", \"ed_map_for_viz\",\\\n",
    "                      \"vote_differences\")\n",
    "totals_2020"
   ]
  },
  {
   "cell_type": "code",
   "execution_count": 12,
   "id": "4ff4c4df-9270-4a1b-8c8f-8cdcd48a493a",
   "metadata": {},
   "outputs": [],
   "source": [
    "def total_votes(df, col1, col2):\n",
    "    \"\"\"\n",
    "    This function totals the values per group in a column.\n",
    "\n",
    "    Parameters:\n",
    "    df (pd.DataFrame) = name of DataFrame\n",
    "    col1 (str) = name of column by which we will group values\n",
    "    col2 (str) = name of column that holds the values to add\n",
    "    \"\"\"\n",
    "    # make sure that the column values are integers\n",
    "    df[col2] = df[col2].astype(int)\n",
    "\n",
    "    # creates a lean DataFrame that holds total values per group\n",
    "    new_df = df.groupby(col1)[col2].sum().reset_index()\n",
    "    new_df.rename(columns = {col2: \"total_value\"}, inplace=True)\n",
    "    \n",
    "    return new_df"
   ]
  },
  {
   "cell_type": "code",
   "execution_count": 13,
   "id": "9e0533b6-5e2a-4ad4-a374-eb43f96104e4",
   "metadata": {},
   "outputs": [
    {
     "name": "stderr",
     "output_type": "stream",
     "text": [
      "/var/folders/4f/fk_hbgy14cg47tw521m3y0xw0000gn/T/ipykernel_14690/1404803246.py:11: SettingWithCopyWarning: \n",
      "A value is trying to be set on a copy of a slice from a DataFrame.\n",
      "Try using .loc[row_indexer,col_indexer] = value instead\n",
      "\n",
      "See the caveats in the documentation: https://pandas.pydata.org/pandas-docs/stable/user_guide/indexing.html#returning-a-view-versus-a-copy\n",
      "  df[col2] = df[col2].astype(int)\n",
      "/var/folders/4f/fk_hbgy14cg47tw521m3y0xw0000gn/T/ipykernel_14690/1404803246.py:11: SettingWithCopyWarning: \n",
      "A value is trying to be set on a copy of a slice from a DataFrame.\n",
      "Try using .loc[row_indexer,col_indexer] = value instead\n",
      "\n",
      "See the caveats in the documentation: https://pandas.pydata.org/pandas-docs/stable/user_guide/indexing.html#returning-a-view-versus-a-copy\n",
      "  df[col2] = df[col2].astype(int)\n"
     ]
    }
   ],
   "source": [
    "bx_2016_total = total_votes(bx_2016, \"ed_map_for_viz\", \"Tally\")\n",
    "bx_2020_total = total_votes(bx_2020, \"ed_map_for_viz\", \"Tally\")"
   ]
  },
  {
   "cell_type": "code",
   "execution_count": 14,
   "id": "46b12818-2e40-4aad-a53c-c081d04d98b4",
   "metadata": {},
   "outputs": [],
   "source": [
    "# merging our datasets\n",
    "\n",
    "totals_2016 = pd.merge(totals_2016, bx_2016_total, on=\"ed_map_for_viz\")\n",
    "totals_2020 = pd.merge(totals_2020, bx_2020_total, on=\"ed_map_for_viz\")"
   ]
  },
  {
   "cell_type": "markdown",
   "id": "9482de55-492a-4679-aa5c-f342e20e0ea8",
   "metadata": {},
   "source": [
    "## Get percentage of votes per candidate"
   ]
  },
  {
   "cell_type": "code",
   "execution_count": 15,
   "id": "6fe30182-eb9d-44d7-b5b7-f4366c30bba1",
   "metadata": {},
   "outputs": [],
   "source": [
    "def get_pct(df, target_col, total_col, new_col):\n",
    "    \"\"\"\n",
    "    This function calculates the percentage of a column value.\n",
    "\n",
    "    Parameters:\n",
    "    df (pd.DataFrame) = name of DataFrame\n",
    "    target_col (str) = name of column that contains the dividend\n",
    "    total_col (str) = name of column that contains the divisor\n",
    "    new_col (str) = name of new column that holds percentage values\n",
    "    \"\"\"\n",
    "    \n",
    "    # make sure that the column values are integers\n",
    "    df[target_col] = df[target_col].astype(int)\n",
    "    df[total_col] = df[total_col].astype(int)\n",
    "\n",
    "    # getting percentage\n",
    "    df[new_col] = (df[target_col] / df[total_col] * 100)\n",
    "    df.fillna({new_col: 0}, inplace=True)\n",
    "    \n",
    "    return df\n",
    "    "
   ]
  },
  {
   "cell_type": "code",
   "execution_count": 16,
   "id": "eb57bfc9-17bb-4e23-87b2-1a82a6cb90be",
   "metadata": {},
   "outputs": [],
   "source": [
    "# getting percentages per candidate\n",
    "\n",
    "totals_2016 = get_pct(totals_2016, \"Trump\", \"total_value\", \"trump_pct\")\n",
    "totals_2016 = get_pct(totals_2016, \"Clinton\", \"total_value\", \"clinton_pct\")\n",
    "\n",
    "totals_2020 = get_pct(totals_2020, \"Trump\", \"total_value\", \"trump_pct\")\n",
    "totals_2020 = get_pct(totals_2020, \"Biden\", \"total_value\", \"biden_pct\")"
   ]
  },
  {
   "cell_type": "code",
   "execution_count": 17,
   "id": "1ad3cdcc-e986-47d5-ae14-4842c12b4e80",
   "metadata": {},
   "outputs": [],
   "source": [
    "# get vote differential in percentage points\n",
    "\n",
    "totals_2016[\"vote_counts_pct\"] = totals_2016[\"trump_pct\"] - totals_2016[\"clinton_pct\"]\n",
    "totals_2020[\"vote_counts_pct\"] = totals_2020[\"trump_pct\"] - totals_2020[\"biden_pct\"]"
   ]
  },
  {
   "cell_type": "code",
   "execution_count": 18,
   "id": "dd89e238-30ed-4cf4-ae14-e59eda527580",
   "metadata": {},
   "outputs": [],
   "source": [
    "# save to csv\n",
    "os.makedirs(\"csv\", exist_ok=True)\n",
    "\n",
    "totals_2016.to_csv(\"csv/2016-votes.csv\", encoding=\"UTF-8\", index=False)\n",
    "totals_2020.to_csv(\"csv/2020-votes.csv\", encoding=\"UTF-8\", index=False)"
   ]
  },
  {
   "cell_type": "markdown",
   "id": "0d25d6f5-ee7b-4a5b-8ac7-8b915f8f3b0b",
   "metadata": {},
   "source": [
    "### Old version\n",
    "\n",
    "The lines of code above results in datasets with only the columns we need: election district, candites, and vote differential. \n",
    "\n",
    "Here's the previous processing I did, which breaks down the steps and adds columns to the main dataset."
   ]
  },
  {
   "cell_type": "code",
   "execution_count": 19,
   "id": "b56c6b2e-ac4f-4e5a-b10c-43495965c803",
   "metadata": {},
   "outputs": [],
   "source": [
    "# def consol_candidate(df, col_name, candidate_name):\n",
    "#     \"\"\"\n",
    "#     This function consolidates candidates per election district. \n",
    "\n",
    "#     Parameters:\n",
    "#     df (pd.DataFrame) = Pandas DataFrame\n",
    "#     col_name (str) = name of the column to query for the keyword or candidate name search\n",
    "#     candidate_name (str) = string for keyword or candidate name search\n",
    "#     \"\"\"\n",
    "\n",
    "#     filtered_df = df[df[col_name].str.contains(candidate_name, case=False, na=False)]\n",
    "#     return filtered_df"
   ]
  },
  {
   "cell_type": "code",
   "execution_count": 20,
   "id": "27957c60-18ed-4f43-b2fb-72c4c0c021f7",
   "metadata": {},
   "outputs": [],
   "source": [
    "# col_name = \"Unit Name\"\n",
    "\n",
    "# # creating dfs per candidate per election year\n",
    "# bx_trump_2016 = consol_candidate(bx_2016_prez, col_name, \"Trump\")\n",
    "# bx_clinton_2016 = consol_candidate(bx_2016_prez, col_name, \"Clinton\")\n",
    "# bx_trump_2020 = consol_candidate(bx_2020_prez, col_name, \"Trump\")\n",
    "# bx_biden_2020 = consol_candidate(bx_2020_prez, col_name, \"Biden\")"
   ]
  },
  {
   "cell_type": "code",
   "execution_count": 21,
   "id": "d3cff66b-fb8e-4943-aedd-b39bfa284302",
   "metadata": {},
   "outputs": [],
   "source": [
    "# def count_votes(df, col_name, col_value):\n",
    "#     \"\"\"\n",
    "#     This function totals the number of votes per candidate. \n",
    "\n",
    "#     Parameters:\n",
    "#     df (pd.DataFrame) = Pandas DataFrame\n",
    "#     col_name (str) = name of the column that anchors the data\n",
    "#     col_value (str) = string for keyword or candidate name search\n",
    "#     \"\"\"\n",
    "\n",
    "#     totals_df = df.groupby(col_name)[col_value].sum().reset_index()\n",
    "#     return totals_df"
   ]
  },
  {
   "cell_type": "code",
   "execution_count": 22,
   "id": "99d24157-49b2-4dfd-80e0-c07532e456bc",
   "metadata": {},
   "outputs": [],
   "source": [
    "# col1 = \"ed_map_for_viz\"\n",
    "# col2 = \"Tally\"\n",
    "\n",
    "# # summing votes per candidate per election year per election district\n",
    "# bx_trump_2016 = count_votes(bx_trump_2016, col1, col2)\n",
    "# bx_clinton_2016 = count_votes(bx_clinton_2016, col1, col2)\n",
    "# bx_trump_2020 = count_votes(bx_trump_2020, col1, col2)\n",
    "# bx_biden_2020 = count_votes(bx_biden_2020, col1, col2)"
   ]
  },
  {
   "cell_type": "code",
   "execution_count": 23,
   "id": "c496ae54-e804-4114-9154-3a1c2b70d2dc",
   "metadata": {},
   "outputs": [],
   "source": [
    "# # renaming columns to prepare for merging\n",
    "\n",
    "# bx_trump_2016.rename(columns={col2: \"Trump\"}, inplace=True)\n",
    "# bx_clinton_2016.rename(columns={col2: \"Clinton\"}, inplace=True)\n",
    "# bx_trump_2020.rename(columns={col2: \"Trump\"}, inplace=True)\n",
    "# bx_biden_2020.rename(columns={col2: \"Biden\"}, inplace=True)"
   ]
  },
  {
   "cell_type": "code",
   "execution_count": 24,
   "id": "b72cec12-97ed-49f3-b398-7dcbdd19437b",
   "metadata": {},
   "outputs": [],
   "source": [
    "# # merging dfs per election year\n",
    "\n",
    "# totals_2016 = pd.merge(bx_trump_2016, bx_clinton_2016, on=\"ed_map_for_viz\")\n",
    "# totals_2020 = pd.merge(bx_trump_2020, bx_biden_2020, on=\"ed_map_for_viz\")"
   ]
  },
  {
   "cell_type": "code",
   "execution_count": 25,
   "id": "b371b990-fed1-4158-a51f-bd92f25c3fd1",
   "metadata": {},
   "outputs": [],
   "source": [
    "# # convert our columns to int\n",
    "\n",
    "# totals_2016[[\"Trump\", \"Clinton\"]] = totals_2016[[\"Trump\", \"Clinton\"]].astype(int)\n",
    "# totals_2020[[\"Trump\", \"Biden\"]] = totals_2020[[\"Trump\", \"Biden\"]].astype(int)"
   ]
  },
  {
   "cell_type": "code",
   "execution_count": 26,
   "id": "4ec85cdb-b447-4339-91b3-bfb5dc0df556",
   "metadata": {},
   "outputs": [],
   "source": [
    "# # getting the difference of votes\n",
    "# # for consistency, Dems will have a negative value\n",
    "\n",
    "# totals_2016[\"votes_value_for_viz\"] = totals_2016[\"Trump\"] - totals_2016[\"Clinton\"]\n",
    "# totals_2020[\"votes_value_for_viz\"] = totals_2020[\"Trump\"] - totals_2020[\"Biden\"]"
   ]
  },
  {
   "cell_type": "code",
   "execution_count": 27,
   "id": "c83d2f85-2cfb-413c-bb53-01a5bdf978a9",
   "metadata": {},
   "outputs": [],
   "source": [
    "# # save to csv\n",
    "\n",
    "# totals_2016.to_csv(\"2016-votes.csv\", encoding=\"UTF-8\", index=False)\n",
    "# totals_2020.to_csv(\"2020-votes.csv\", encoding=\"UTF-8\", index=False)"
   ]
  },
  {
   "cell_type": "code",
   "execution_count": null,
   "id": "67c99d92-4d9f-432a-aa34-0364020bdbcc",
   "metadata": {},
   "outputs": [],
   "source": []
  }
 ],
 "metadata": {
  "kernelspec": {
   "display_name": "Python 3 (ipykernel)",
   "language": "python",
   "name": "python3"
  },
  "language_info": {
   "codemirror_mode": {
    "name": "ipython",
    "version": 3
   },
   "file_extension": ".py",
   "mimetype": "text/x-python",
   "name": "python",
   "nbconvert_exporter": "python",
   "pygments_lexer": "ipython3",
   "version": "3.11.8"
  }
 },
 "nbformat": 4,
 "nbformat_minor": 5
}
