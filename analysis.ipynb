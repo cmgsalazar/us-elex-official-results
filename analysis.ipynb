{
 "cells": [
  {
   "cell_type": "markdown",
   "id": "c194c4f0-7832-416f-8c37-541a21b73b72",
   "metadata": {},
   "source": [
    "# 2016 and 2020 presidential elections in the Bronx\n",
    "\n",
    "Here, we will be looking at 2016 and 2020 election night results to see how Bronxites voted in the previous elections. The objectives are to visualize the data and identify trends, if any.\n",
    "\n",
    "Note: Column labels for the 2020 dataset were erratic, and I corrected it manually."
   ]
  },
  {
   "cell_type": "code",
   "execution_count": 1,
   "id": "8c806134-5577-432d-8c2f-ac2bf94e9960",
   "metadata": {},
   "outputs": [],
   "source": [
    "# importing libraries\n",
    "import pandas as pd"
   ]
  },
  {
   "cell_type": "code",
   "execution_count": 2,
   "id": "225d6377-609b-4a78-9ef6-4bc10e5920b9",
   "metadata": {},
   "outputs": [],
   "source": [
    "# reading files\n",
    "\n",
    "df_2016 = pd.read_csv(\"data/2016-Citywide President Vice President Citywide EDLevel.csv\")\n",
    "df_2020 = pd.read_csv(\"data/2020-Citywide President Vice President Citywide EDLevel.csv\")"
   ]
  },
  {
   "cell_type": "markdown",
   "id": "2c4103c9-c0ac-4b37-9a58-636001fbe388",
   "metadata": {},
   "source": [
    "## Cleaning datasets \n",
    "\n",
    "We want to keep only data for **1)** the Bronx, or assembly districts 77 to 87, and **2)** Democrat and Republican votes."
   ]
  },
  {
   "cell_type": "code",
   "execution_count": 3,
   "id": "10b49d9d-f4db-4192-a242-e8853a3b652a",
   "metadata": {},
   "outputs": [],
   "source": [
    "# filtering only bronx data\n",
    "df_2016_bx = df_2016[df_2016[\"County\"] == \"Bronx\"]\n",
    "df_2020_bx = df_2020[df_2020[\"County\"] == \"Bronx\"]"
   ]
  },
  {
   "cell_type": "code",
   "execution_count": 4,
   "id": "8593e240-8ce1-4f0b-a9e2-b48b591f3014",
   "metadata": {},
   "outputs": [],
   "source": [
    "# keeping only democrat and republican votes data\n",
    "\n",
    "# 2016: Trump vs Clinton\n",
    "df_2016_bx_prez = df_2016_bx[df_2016_bx[\"Unit Name\"].str.contains(\"Trump|Clinton\", case=False, na=False)]\n",
    "\n",
    "# 2020: Trump vs Biden\n",
    "df_2020_bx_prez = df_2020_bx[df_2020_bx[\"Unit Name\"].str.contains(\"Trump|Biden\", case=False, na=False)]"
   ]
  },
  {
   "cell_type": "code",
   "execution_count": 5,
   "id": "2153f5c9-73ce-4ae8-af99-5b7b0913a699",
   "metadata": {},
   "outputs": [
    {
     "name": "stderr",
     "output_type": "stream",
     "text": [
      "/var/folders/4f/fk_hbgy14cg47tw521m3y0xw0000gn/T/ipykernel_63250/4132777228.py:7: SettingWithCopyWarning: \n",
      "A value is trying to be set on a copy of a slice from a DataFrame.\n",
      "Try using .loc[row_indexer,col_indexer] = value instead\n",
      "\n",
      "See the caveats in the documentation: https://pandas.pydata.org/pandas-docs/stable/user_guide/indexing.html#returning-a-view-versus-a-copy\n",
      "  df_2016_bx_prez.loc[:, \"ed_map_for_viz\"] = df_2016_bx_prez[\"AD\"].astype(str) + df_2016_bx_prez[\"ED\"].astype(str).str.zfill(3)\n",
      "/var/folders/4f/fk_hbgy14cg47tw521m3y0xw0000gn/T/ipykernel_63250/4132777228.py:8: SettingWithCopyWarning: \n",
      "A value is trying to be set on a copy of a slice from a DataFrame.\n",
      "Try using .loc[row_indexer,col_indexer] = value instead\n",
      "\n",
      "See the caveats in the documentation: https://pandas.pydata.org/pandas-docs/stable/user_guide/indexing.html#returning-a-view-versus-a-copy\n",
      "  df_2020_bx_prez.loc[:, \"ed_map_for_viz\"] = df_2020_bx_prez[\"AD\"].astype(str) + df_2020_bx_prez[\"ED\"].astype(str).str.zfill(3)\n"
     ]
    }
   ],
   "source": [
    "# create a new column that combines AD and ED digits\n",
    "# for consistency with codes used for mapping\n",
    "\n",
    "# df_2016_bx_prez[\"ed_map_for_viz\"] = df_2016_bx_prez[\"AD\"].astype(str) + df_2016_bx_prez[\"ED\"].astype(str).str.zfill(3)\n",
    "# df_2020_bx_prez[\"ed_map_for_viz\"] = df_2020_bx_prez[\"AD\"].astype(str) + df_2020_bx_prez[\"ED\"].astype(str).str.zfill(3)\n",
    "\n",
    "df_2016_bx_prez.loc[:, \"ed_map_for_viz\"] = df_2016_bx_prez[\"AD\"].astype(str) + df_2016_bx_prez[\"ED\"].astype(str).str.zfill(3)\n",
    "df_2020_bx_prez.loc[:, \"ed_map_for_viz\"] = df_2020_bx_prez[\"AD\"].astype(str) + df_2020_bx_prez[\"ED\"].astype(str).str.zfill(3)"
   ]
  },
  {
   "cell_type": "markdown",
   "id": "f82e4519-94ce-4784-880c-5a25d1df25ac",
   "metadata": {},
   "source": [
    "## Getting total votes per candidate"
   ]
  },
  {
   "cell_type": "code",
   "execution_count": 6,
   "id": "b56c6b2e-ac4f-4e5a-b10c-43495965c803",
   "metadata": {},
   "outputs": [],
   "source": [
    "def consol_candidate(df, column_name, candidate_name):\n",
    "    \"\"\"\n",
    "    This function consolidates candidates per election district. \n",
    "\n",
    "    Parameters:\n",
    "    df = Pandas DataFrame\n",
    "    column_name (str) = name of the column to query for the keyword or candidate name search\n",
    "    candidate_name (str) = string for keyword or candidate name search\n",
    "    \"\"\"\n",
    "\n",
    "    filtered_df = df[df[column_name].str.contains(candidate_name, case=False, na=False)]\n",
    "    return filtered_df"
   ]
  },
  {
   "cell_type": "code",
   "execution_count": 7,
   "id": "27957c60-18ed-4f43-b2fb-72c4c0c021f7",
   "metadata": {},
   "outputs": [],
   "source": [
    "col_name = \"Unit Name\"\n",
    "\n",
    "# creating dfs per candidate per election year\n",
    "bx_trump_2016 = consol_candidate(df_2016_bx_prez, col_name, \"Trump\")\n",
    "bx_clinton_2016 = consol_candidate(df_2016_bx_prez, col_name, \"Clinton\")\n",
    "bx_trump_2020 = consol_candidate(df_2020_bx_prez, col_name, \"Trump\")\n",
    "bx_biden_2020 = consol_candidate(df_2020_bx_prez, col_name, \"Biden\")"
   ]
  },
  {
   "cell_type": "code",
   "execution_count": 8,
   "id": "d3cff66b-fb8e-4943-aedd-b39bfa284302",
   "metadata": {},
   "outputs": [],
   "source": [
    "def count_votes(df, column_name, column_value):\n",
    "    \"\"\"\n",
    "    This function totals the number of votes per candidate. \n",
    "\n",
    "    Parameters:\n",
    "    df = Pandas DataFrame\n",
    "    column_name (str) = name of the column that anchors the data\n",
    "    column_value (str) = string for keyword or candidate name search\n",
    "    \"\"\"\n",
    "\n",
    "    totals_df = df.groupby(column_name)[column_value].sum().reset_index()\n",
    "    return totals_df"
   ]
  },
  {
   "cell_type": "code",
   "execution_count": 9,
   "id": "99d24157-49b2-4dfd-80e0-c07532e456bc",
   "metadata": {},
   "outputs": [],
   "source": [
    "col1 = \"ed_map_for_viz\"\n",
    "col2 = \"Tally\"\n",
    "\n",
    "# summing votes per candidate per election year per election district\n",
    "bx_trump_2016 = count_votes(bx_trump_2016, col1, col2)\n",
    "bx_clinton_2016 = count_votes(bx_clinton_2016, col1, col2)\n",
    "bx_trump_2020 = count_votes(bx_trump_2020, col1, col2)\n",
    "bx_biden_2020 = count_votes(bx_biden_2020, col1, col2)"
   ]
  },
  {
   "cell_type": "code",
   "execution_count": 10,
   "id": "c496ae54-e804-4114-9154-3a1c2b70d2dc",
   "metadata": {},
   "outputs": [],
   "source": [
    "# renaming columns to prepare for merging\n",
    "\n",
    "bx_trump_2016.rename(columns={col2: \"Trump\"}, inplace=True)\n",
    "bx_clinton_2016.rename(columns={col2: \"Clinton\"}, inplace=True)\n",
    "bx_trump_2020.rename(columns={col2: \"Trump\"}, inplace=True)\n",
    "bx_biden_2020.rename(columns={col2: \"Biden\"}, inplace=True)"
   ]
  },
  {
   "cell_type": "code",
   "execution_count": 11,
   "id": "b72cec12-97ed-49f3-b398-7dcbdd19437b",
   "metadata": {},
   "outputs": [],
   "source": [
    "# merging dfs per election year\n",
    "\n",
    "totals_2016 = pd.merge(bx_trump_2016, bx_clinton_2016, on=\"ed_map_for_viz\")\n",
    "totals_2020 = pd.merge(bx_trump_2020, bx_biden_2020, on=\"ed_map_for_viz\")"
   ]
  },
  {
   "cell_type": "code",
   "execution_count": 12,
   "id": "b371b990-fed1-4158-a51f-bd92f25c3fd1",
   "metadata": {},
   "outputs": [],
   "source": [
    "# convert our columns to int\n",
    "\n",
    "totals_2016[[\"Trump\", \"Clinton\"]] = totals_2016[[\"Trump\", \"Clinton\"]].astype(int)\n",
    "totals_2020[[\"Trump\", \"Biden\"]] = totals_2020[[\"Trump\", \"Biden\"]].astype(int)"
   ]
  },
  {
   "cell_type": "code",
   "execution_count": 13,
   "id": "4ec85cdb-b447-4339-91b3-bfb5dc0df556",
   "metadata": {},
   "outputs": [],
   "source": [
    "# getting the difference of votes\n",
    "# for consistency, Dems will have a negative value\n",
    "\n",
    "totals_2016[\"votes_value_for_viz\"] = totals_2016[\"Trump\"] - totals_2016[\"Clinton\"]\n",
    "totals_2020[\"votes_value_for_viz\"] = totals_2020[\"Trump\"] - totals_2020[\"Biden\"]"
   ]
  },
  {
   "cell_type": "code",
   "execution_count": 14,
   "id": "c83d2f85-2cfb-413c-bb53-01a5bdf978a9",
   "metadata": {},
   "outputs": [],
   "source": [
    "# save to csv\n",
    "\n",
    "totals_2016.to_csv(\"2016-votes.csv\", encoding=\"UTF-8\", index=False)\n",
    "totals_2020.to_csv(\"2020-votes.csv\", encoding=\"UTF-8\", index=False)"
   ]
  },
  {
   "cell_type": "code",
   "execution_count": null,
   "id": "67c99d92-4d9f-432a-aa34-0364020bdbcc",
   "metadata": {},
   "outputs": [],
   "source": []
  }
 ],
 "metadata": {
  "kernelspec": {
   "display_name": "Python 3 (ipykernel)",
   "language": "python",
   "name": "python3"
  },
  "language_info": {
   "codemirror_mode": {
    "name": "ipython",
    "version": 3
   },
   "file_extension": ".py",
   "mimetype": "text/x-python",
   "name": "python",
   "nbconvert_exporter": "python",
   "pygments_lexer": "ipython3",
   "version": "3.11.8"
  }
 },
 "nbformat": 4,
 "nbformat_minor": 5
}
